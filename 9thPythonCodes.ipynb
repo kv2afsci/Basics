{
  "nbformat": 4,
  "nbformat_minor": 0,
  "metadata": {
    "colab": {
      "provenance": [],
      "authorship_tag": "ABX9TyNVO/N9QLjt4AkGVFQIumjV",
      "include_colab_link": true
    },
    "kernelspec": {
      "name": "python3",
      "display_name": "Python 3"
    },
    "language_info": {
      "name": "python"
    }
  },
  "cells": [
    {
      "cell_type": "markdown",
      "metadata": {
        "id": "view-in-github",
        "colab_type": "text"
      },
      "source": [
        "<a href=\"https://colab.research.google.com/github/kv2afsci/Python-Basics/blob/main/9thPythonCodes.ipynb\" target=\"_parent\"><img src=\"https://colab.research.google.com/assets/colab-badge.svg\" alt=\"Open In Colab\"/></a>"
      ]
    },
    {
      "cell_type": "markdown",
      "source": [
        "Practiacl No : 1\n",
        "\n",
        "OBJECTIVE\n",
        "Write a program to input a 2 lines and display it.\n",
        "\n",
        "SOURCE CODE:"
      ],
      "metadata": {
        "id": "Kyh91K08ld3m"
      }
    },
    {
      "cell_type": "code",
      "source": [
        "name= input(\"Please enter your name: \")\n",
        "age=int(input(\"Enter your age:\"))\n",
        "print(\"Welcome\",name )\n",
        "print(\"Your age is:\", age)"
      ],
      "metadata": {
        "colab": {
          "base_uri": "https://localhost:8080/"
        },
        "id": "RUQbMv_ck7Go",
        "outputId": "7baac264-332c-4191-fc28-79c32533ee90"
      },
      "execution_count": 1,
      "outputs": [
        {
          "output_type": "stream",
          "name": "stdout",
          "text": [
            "Please enter your name: Shrinivas\n",
            "Enter your age:37\n",
            "Welcome Shrinivas\n",
            "Your age is: 37\n"
          ]
        }
      ]
    },
    {
      "cell_type": "markdown",
      "source": [
        "PRACTICAL NO: 2\n",
        "\n",
        "Write a to arithmetic operations.\n",
        "\n",
        "SOURCE code:\n",
        "\n"
      ],
      "metadata": {
        "id": "bYU9xxhQlnbG"
      }
    },
    {
      "cell_type": "code",
      "source": [
        "#Store input numbers:\n",
        "num1 = input('Enter first number:')\n",
        "num2 = input('Enter second number:')\n",
        "\n",
        "#Add two numbers\n",
        "sum = float(num1) + float(num2)\n",
        "\n",
        "#Subract two numbers\n",
        "min = float(num1) - float(num2)\n",
        "\n",
        "#Multiply two numbers\n",
        "mul = float(num1) * float(num2)\n",
        "\n",
        "#Divide two numbers\n",
        "div = float(num1) / float(num2)\n",
        "\n",
        "#Display the sum\n",
        "print('The sum is', sum)\n",
        "\n",
        "#Display the subtraction\n",
        "print('The difference is', min)\n",
        "\n",
        "#Display the multiplication\n",
        "print('The product is', mul)\n",
        "\n",
        "#Display the division\n",
        "print('The division is', div)"
      ],
      "metadata": {
        "colab": {
          "base_uri": "https://localhost:8080/"
        },
        "id": "REP-R0caltJe",
        "outputId": "1f41ef16-21d3-4ef4-94dd-5cb3afc2de17"
      },
      "execution_count": 5,
      "outputs": [
        {
          "output_type": "stream",
          "name": "stdout",
          "text": [
            "Enter first number:20\n",
            "Enter second number:10\n",
            "The sum is 30.0\n",
            "The difference is 10.0\n",
            "The product is 200.0\n",
            "The division is 2.0\n"
          ]
        }
      ]
    },
    {
      "cell_type": "markdown",
      "source": [
        "PRACTICAL NO: 3\n",
        "\n",
        "OBJECTIVE\n",
        "Write a program to calculate distance using this formula: distance = ut+1/2at2\n",
        "\n",
        "SOURCE CODE:"
      ],
      "metadata": {
        "id": "IZyCW_FdnWWQ"
      }
    },
    {
      "cell_type": "code",
      "source": [
        "u=int(input(\"Enter the velocity in m/s\"))\n",
        "a=int(input(\"Enter the acceleration in m/s2\"))\n",
        "t=int(input(\"Enter the time in sec\"))\n",
        "dis=(u*t)+1/2*(a*t**2)\n",
        "print(\"The distance travelled is \", dis, \"m\")"
      ],
      "metadata": {
        "colab": {
          "base_uri": "https://localhost:8080/"
        },
        "id": "KTlM4mE4nZn4",
        "outputId": "79ac5e2b-34cb-4f43-d5ca-f59c141aa93a"
      },
      "execution_count": 8,
      "outputs": [
        {
          "output_type": "stream",
          "name": "stdout",
          "text": [
            "Enter the velocity in m/s10\n",
            "Enter the acceleration in m/s25\n",
            "Enter the time in sec30\n",
            "The distance travelled is  2550.0 m\n"
          ]
        }
      ]
    },
    {
      "cell_type": "markdown",
      "source": [
        "PRACTICAL NO: 4\n",
        "\n",
        "OBJECTIVE:\n",
        "Write a program to input length and breadth of rectangle and calculate its area.\n",
        "\n",
        "SOURCE CODE:"
      ],
      "metadata": {
        "id": "x-sIB__MnoNx"
      }
    },
    {
      "cell_type": "code",
      "source": [
        "l=float(input('Enter the length of rectangle:'))\n",
        "b=float(input('Enter the breadth of rectangle:'))\n",
        "area=l*b\n",
        "print('Rectangle Specifications')\n",
        "print('Length=',l)\n",
        "print('Breadth=',b)\n",
        "print('Area=',area)"
      ],
      "metadata": {
        "id": "-AQ9uubcnsLw"
      },
      "execution_count": null,
      "outputs": []
    },
    {
      "cell_type": "markdown",
      "source": [
        "PRACTICAL NO: 5\n",
        "\n",
        "OBJECTIVE:\n",
        "Write a program to obtain temperature in Celsius and convert it into Fahrenheit.\n",
        "Formula : F = C*(9/5+ 32)\n",
        "\n",
        "SOURCE CODE:"
      ],
      "metadata": {
        "id": "p5PTh2wHoES7"
      }
    },
    {
      "cell_type": "code",
      "source": [
        "cel = float(input(\"Enter the temperature in celcius: \"))\n",
        "Fah = (9/5)*cel+ 32\n",
        "print (\"The temperature in Fahrenheit is \", Fah)"
      ],
      "metadata": {
        "colab": {
          "base_uri": "https://localhost:8080/"
        },
        "id": "_QZmiglSoLCy",
        "outputId": "4f129177-2275-4528-e4bf-f2dc4f3fa57c"
      },
      "execution_count": 9,
      "outputs": [
        {
          "output_type": "stream",
          "name": "stdout",
          "text": [
            "Enter the temperature in celcius: 100\n",
            "The temperature in Fahrenheit is  212.0\n"
          ]
        }
      ]
    },
    {
      "cell_type": "markdown",
      "source": [
        "PRACTICAL NO: 6\n",
        "\n",
        "OBJECTIVE:\n",
        "Write a program to read details like name, class, age of a student and then print the details in same line and then in separate lines.\n",
        "(Make sure to have two blank lines in these two different types of prints.)\n",
        "\n",
        "SOURCE CODE:"
      ],
      "metadata": {
        "id": "zaBt0cASocAb"
      }
    },
    {
      "cell_type": "code",
      "source": [
        "n = input(\"Enter name of student: \")\n",
        "c = int(input(\"Enter class of student: \"))\n",
        "a = int(input(\"Enter age of student: \"))\n",
        "print(\"Name: \", n, \"Class:\" , c, \"Age:\" , a)\n",
        "print()\n",
        "print()\n",
        "print(\"Name:\", n)\n",
        "print(\"Class:\", c)\n",
        "print(\"Age:\", a)"
      ],
      "metadata": {
        "colab": {
          "base_uri": "https://localhost:8080/"
        },
        "id": "Pu55XJ0jpCLs",
        "outputId": "2fde5a12-f802-4a13-ef2a-4e085e5e55b6"
      },
      "execution_count": 12,
      "outputs": [
        {
          "output_type": "stream",
          "name": "stdout",
          "text": [
            "Enter name of student: AMIT\n",
            "Enter class of student: 9\n",
            "Enter age of student: 15\n",
            "Name:  AMIT Class: 9 Age: 15\n",
            "\n",
            "\n",
            "Name: AMIT\n",
            "Class: 9\n",
            "Age: 15\n"
          ]
        }
      ]
    },
    {
      "cell_type": "markdown",
      "source": [
        "PRACTICAL NO: 7\n",
        "\n",
        "OBJECTIVE\n",
        "\n",
        "Write a program to check whether the entered number is odd or even.\n",
        "\n",
        "SOURCE CODE:"
      ],
      "metadata": {
        "id": "b-3TVGpNp1F2"
      }
    },
    {
      "cell_type": "code",
      "source": [
        "num = int (input (\"Enter any number to test whether it is odd or even: \" ))\n",
        "if (num % 2) == 0:\n",
        "  print (\"The number is even\")\n",
        "else:\n",
        "  print (\"The provided number is odd\")\n"
      ],
      "metadata": {
        "colab": {
          "base_uri": "https://localhost:8080/"
        },
        "id": "q5cT58GYp83o",
        "outputId": "97f2aa2c-1b30-4261-fffe-137bf31e3e13"
      },
      "execution_count": 15,
      "outputs": [
        {
          "output_type": "stream",
          "name": "stdout",
          "text": [
            "Enter any number to test whether it is odd or even: 887\n",
            "The provided number is odd\n"
          ]
        }
      ]
    },
    {
      "cell_type": "markdown",
      "source": [
        "PRACTICAL NO: 8\n",
        "\n",
        "OBJECTIVE\n",
        "Write a program to calculate simple interest.\n",
        "\n",
        "SOURCE CODE:"
      ],
      "metadata": {
        "id": "foH8GOSxrB1X"
      }
    },
    {
      "cell_type": "code",
      "source": [
        "pass1= int(input(\"Enter the 4-digit pin :\"))\n",
        "if pass1==1234:\n",
        "  print(\"Your phone is unlocked\")\n",
        "else:\n",
        "  print(\"Password incorrect! \")"
      ],
      "metadata": {
        "colab": {
          "base_uri": "https://localhost:8080/"
        },
        "id": "qGqeYmbtrDbX",
        "outputId": "29217860-8f7e-4124-eacf-00a37ad10ce4"
      },
      "execution_count": 17,
      "outputs": [
        {
          "output_type": "stream",
          "name": "stdout",
          "text": [
            "Enter the 4-digit pin :1234\n",
            "Your phone is unlocked\n"
          ]
        }
      ]
    },
    {
      "cell_type": "markdown",
      "source": [
        "PRACTICAL NO: 9\n",
        "\n",
        "OBJECTIVE\n",
        "write a program to enter a number and check if it is a prime number or a composte number.\n",
        "\n",
        "SOURCE CODE:"
      ],
      "metadata": {
        "id": "ZYQi6mizrcE4"
      }
    },
    {
      "cell_type": "code",
      "source": [
        "num=int(input('Enter the number:'))\n",
        "for i in range(2,num//2+1):\n",
        "  if num%i==0:\n",
        "    print('It is Composite Number.')\n",
        "  break\n",
        "else:\n",
        "  print('lt is a Prime Number.')"
      ],
      "metadata": {
        "colab": {
          "base_uri": "https://localhost:8080/"
        },
        "id": "MuJVFCJ-rl9g",
        "outputId": "b1a203df-df72-441b-8b35-35f64a8cff5b"
      },
      "execution_count": 21,
      "outputs": [
        {
          "output_type": "stream",
          "name": "stdout",
          "text": [
            "Enter the number:10\n",
            "It is Composite Number.\n"
          ]
        }
      ]
    },
    {
      "cell_type": "markdown",
      "source": [
        "PRACTICAL NO: 10\n",
        "\n",
        "OBJECTIVE\n",
        "Write a Program to display the n terms of Fibonacci series.\n",
        "\n",
        "SOURCE CODE:"
      ],
      "metadata": {
        "id": "lLfW8rVksx6r"
      }
    },
    {
      "cell_type": "code",
      "source": [
        "n = int(input(\"Enter the Range Number: \"))\n",
        "a = 0\n",
        "b = 1\n",
        "if n == 1:\n",
        "    print(a)\n",
        "else:\n",
        "    print(a, b, end=' ')\n",
        "    for i in range(2, n):\n",
        "        c = a + b\n",
        "        a = b\n",
        "        b = c\n",
        "        print(c, end=' ')\n"
      ],
      "metadata": {
        "colab": {
          "base_uri": "https://localhost:8080/"
        },
        "id": "dkH7qwcstADS",
        "outputId": "21a9840c-6329-4c6b-8e88-13547aa8a6eb"
      },
      "execution_count": 24,
      "outputs": [
        {
          "output_type": "stream",
          "name": "stdout",
          "text": [
            "Enter the Range Number: 10\n",
            "0 1 1 2 3 5 8 13 21 34 "
          ]
        }
      ]
    },
    {
      "cell_type": "code",
      "source": [],
      "metadata": {
        "id": "aD--J5Dsrc-_"
      },
      "execution_count": null,
      "outputs": []
    }
  ]
}