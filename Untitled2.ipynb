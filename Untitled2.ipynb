{
  "nbformat": 4,
  "nbformat_minor": 0,
  "metadata": {
    "colab": {
      "provenance": [],
      "authorship_tag": "ABX9TyMf/n5itkr3itwKv+UjUEd6",
      "include_colab_link": true
    },
    "kernelspec": {
      "name": "python3",
      "display_name": "Python 3"
    },
    "language_info": {
      "name": "python"
    }
  },
  "cells": [
    {
      "cell_type": "markdown",
      "metadata": {
        "id": "view-in-github",
        "colab_type": "text"
      },
      "source": [
        "<a href=\"https://colab.research.google.com/github/kv2afsci/Python-Basics/blob/main/Untitled2.ipynb\" target=\"_parent\"><img src=\"https://colab.research.google.com/assets/colab-badge.svg\" alt=\"Open In Colab\"/></a>"
      ]
    },
    {
      "cell_type": "code",
      "execution_count": null,
      "metadata": {
        "id": "uHJgdTwjbEQm"
      },
      "outputs": [],
      "source": []
    },
    {
      "cell_type": "markdown",
      "source": [
        "# New Section"
      ],
      "metadata": {
        "id": "TNrjbnKDbgJo"
      }
    },
    {
      "cell_type": "markdown",
      "source": [
        "PRACTICAL NO: 1\n",
        "\n",
        "\n",
        "OBJECTIVE\n",
        "Write a program to input a \"Welcome\" Message and display it.\n",
        "\n",
        "\n",
        "SOURCE CODE:\n",
        "\n"
      ],
      "metadata": {
        "id": "5Nbo7IaYjLMK"
      }
    },
    {
      "cell_type": "code",
      "source": [
        "name= input(\"Please enter your name:\")\n",
        "print(\"Welcome\", name )"
      ],
      "metadata": {
        "id": "289R21n8jPQa"
      },
      "execution_count": null,
      "outputs": []
    },
    {
      "cell_type": "markdown",
      "source": [
        "PRACTICAL NO: 2\n",
        "\n",
        "\n",
        "OBJECTIVE\n",
        "Write a program that accepts radius of a circle and prints its area.\n",
        "\n",
        "\n",
        "SOURCE CODE:\n"
      ],
      "metadata": {
        "id": "oi62vzmrjRBx"
      }
    },
    {
      "cell_type": "code",
      "source": [
        "r=int(input('Enter the radius of circle:'))\n",
        "Area=3.14*r**2\n",
        "print('The area of the circle is:', Area)\n"
      ],
      "metadata": {
        "id": "_IHKSCNpjTua"
      },
      "execution_count": null,
      "outputs": []
    }
  ]
}